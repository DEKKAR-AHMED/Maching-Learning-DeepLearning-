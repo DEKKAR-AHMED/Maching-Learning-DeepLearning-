{
 "cells": [
  {
   "cell_type": "code",
   "execution_count": 1,
   "metadata": {},
   "outputs": [],
   "source": [
    "import numpy as np"
   ]
  },
  {
   "cell_type": "code",
   "execution_count": 2,
   "metadata": {},
   "outputs": [],
   "source": [
    "import pandas as pd "
   ]
  },
  {
   "cell_type": "code",
   "execution_count": 3,
   "metadata": {},
   "outputs": [],
   "source": [
    "import matplotlib.pyplot as plt "
   ]
  },
  {
   "cell_type": "code",
   "execution_count": 4,
   "metadata": {},
   "outputs": [],
   "source": [
    "# importing the dataset "
   ]
  },
  {
   "cell_type": "code",
   "execution_count": 5,
   "metadata": {},
   "outputs": [
    {
     "data": {
      "text/plain": [
       "(10000, 14)"
      ]
     },
     "execution_count": 5,
     "metadata": {},
     "output_type": "execute_result"
    }
   ],
   "source": [
    "data = pd.read_csv(\"Churn_Modelling.csv\")\n",
    "data.shape"
   ]
  },
  {
   "cell_type": "code",
   "execution_count": 6,
   "metadata": {},
   "outputs": [
    {
     "data": {
      "text/plain": [
       "array([1, 0, 1, ..., 1, 1, 0])"
      ]
     },
     "execution_count": 6,
     "metadata": {},
     "output_type": "execute_result"
    }
   ],
   "source": [
    "features = data.iloc[:,3:13].values\n",
    "features\n",
    "target = data.iloc[:,13].values\n",
    "target"
   ]
  },
  {
   "cell_type": "code",
   "execution_count": 7,
   "metadata": {},
   "outputs": [],
   "source": [
    "# before we split the data we will encode and dummy  the categoriel variable "
   ]
  },
  {
   "cell_type": "code",
   "execution_count": 8,
   "metadata": {},
   "outputs": [
    {
     "data": {
      "text/plain": [
       "array([[0, 0, 42, ..., 1, 1, 101348.88],\n",
       "       [2, 0, 41, ..., 0, 1, 112542.58],\n",
       "       [0, 0, 42, ..., 1, 0, 113931.57],\n",
       "       ...,\n",
       "       [0, 0, 36, ..., 0, 1, 42085.58],\n",
       "       [1, 1, 42, ..., 1, 0, 92888.52],\n",
       "       [0, 0, 28, ..., 1, 0, 38190.78]], dtype=object)"
      ]
     },
     "execution_count": 8,
     "metadata": {},
     "output_type": "execute_result"
    }
   ],
   "source": [
    "from sklearn.preprocessing import LabelEncoder,OneHotEncoder\n",
    "LabelEncoder_feature_1 = LabelEncoder()\n",
    "features[:,1] = LabelEncoder_feature_1.fit_transform(features[:,1])\n",
    "LabelEncoder_feature_2 = LabelEncoder()\n",
    "features[:,2] = LabelEncoder_feature_2.fit_transform(features[:,2])\n",
    "onehotEncoder = OneHotEncoder(categories=[0])\n",
    "from sklearn.compose import ColumnTransformer\n",
    "ct = ColumnTransformer(\n",
    "    [('one_hot_encoder', OneHotEncoder(categories='auto'), [1])],   # The column numbers to be transformed (here is [1] but can be [0, 1, 3])\n",
    "    remainder='passthrough')\n",
    "features = features[:,1:]\n",
    "features\n"
   ]
  },
  {
   "cell_type": "code",
   "execution_count": 9,
   "metadata": {},
   "outputs": [],
   "source": [
    "# spliting the data into train set and test train ......."
   ]
  },
  {
   "cell_type": "code",
   "execution_count": 10,
   "metadata": {},
   "outputs": [],
   "source": [
    "from sklearn.model_selection import train_test_split"
   ]
  },
  {
   "cell_type": "code",
   "execution_count": 11,
   "metadata": {},
   "outputs": [],
   "source": [
    "features_train,features_test,target_train,target_test = train_test_split(features,target,test_size=0.2,random_state=0)"
   ]
  },
  {
   "cell_type": "code",
   "execution_count": 12,
   "metadata": {},
   "outputs": [],
   "source": [
    "#featuring scalling "
   ]
  },
  {
   "cell_type": "code",
   "execution_count": 13,
   "metadata": {},
   "outputs": [],
   "source": [
    "from sklearn.preprocessing import StandardScaler"
   ]
  },
  {
   "cell_type": "code",
   "execution_count": 14,
   "metadata": {},
   "outputs": [],
   "source": [
    "sc= StandardScaler()"
   ]
  },
  {
   "cell_type": "code",
   "execution_count": 15,
   "metadata": {},
   "outputs": [],
   "source": [
    "features_train = sc.fit_transform(features_train)\n",
    "features_test = sc.transform(features_test)"
   ]
  },
  {
   "cell_type": "code",
   "execution_count": 26,
   "metadata": {},
   "outputs": [
    {
     "data": {
      "text/plain": [
       "(2000, 9)"
      ]
     },
     "execution_count": 26,
     "metadata": {},
     "output_type": "execute_result"
    }
   ],
   "source": [
    "features_test.shape"
   ]
  },
  {
   "cell_type": "markdown",
   "metadata": {},
   "source": [
    "# let make the artificial neural network "
   ]
  },
  {
   "cell_type": "code",
   "execution_count": 20,
   "metadata": {},
   "outputs": [],
   "source": [
    "# importing the keras libarries and packages "
   ]
  },
  {
   "cell_type": "code",
   "execution_count": 21,
   "metadata": {},
   "outputs": [
    {
     "name": "stderr",
     "output_type": "stream",
     "text": [
      "Using TensorFlow backend.\n",
      "/home/ahmed/anaconda3/lib/python3.7/site-packages/tensorflow/python/framework/dtypes.py:526: FutureWarning: Passing (type, 1) or '1type' as a synonym of type is deprecated; in a future version of numpy, it will be understood as (type, (1,)) / '(1,)type'.\n",
      "  _np_qint8 = np.dtype([(\"qint8\", np.int8, 1)])\n",
      "/home/ahmed/anaconda3/lib/python3.7/site-packages/tensorflow/python/framework/dtypes.py:527: FutureWarning: Passing (type, 1) or '1type' as a synonym of type is deprecated; in a future version of numpy, it will be understood as (type, (1,)) / '(1,)type'.\n",
      "  _np_quint8 = np.dtype([(\"quint8\", np.uint8, 1)])\n",
      "/home/ahmed/anaconda3/lib/python3.7/site-packages/tensorflow/python/framework/dtypes.py:528: FutureWarning: Passing (type, 1) or '1type' as a synonym of type is deprecated; in a future version of numpy, it will be understood as (type, (1,)) / '(1,)type'.\n",
      "  _np_qint16 = np.dtype([(\"qint16\", np.int16, 1)])\n",
      "/home/ahmed/anaconda3/lib/python3.7/site-packages/tensorflow/python/framework/dtypes.py:529: FutureWarning: Passing (type, 1) or '1type' as a synonym of type is deprecated; in a future version of numpy, it will be understood as (type, (1,)) / '(1,)type'.\n",
      "  _np_quint16 = np.dtype([(\"quint16\", np.uint16, 1)])\n",
      "/home/ahmed/anaconda3/lib/python3.7/site-packages/tensorflow/python/framework/dtypes.py:530: FutureWarning: Passing (type, 1) or '1type' as a synonym of type is deprecated; in a future version of numpy, it will be understood as (type, (1,)) / '(1,)type'.\n",
      "  _np_qint32 = np.dtype([(\"qint32\", np.int32, 1)])\n",
      "/home/ahmed/anaconda3/lib/python3.7/site-packages/tensorflow/python/framework/dtypes.py:535: FutureWarning: Passing (type, 1) or '1type' as a synonym of type is deprecated; in a future version of numpy, it will be understood as (type, (1,)) / '(1,)type'.\n",
      "  np_resource = np.dtype([(\"resource\", np.ubyte, 1)])\n"
     ]
    }
   ],
   "source": [
    "import keras "
   ]
  },
  {
   "cell_type": "code",
   "execution_count": 22,
   "metadata": {},
   "outputs": [],
   "source": [
    "from keras.models import Sequential\n",
    "# sequential module to initialize our neural network \n",
    "# and the dense module that is required to build the layers \n",
    "# of our  NN\n",
    "from  keras.layers import Dense"
   ]
  },
  {
   "cell_type": "code",
   "execution_count": 23,
   "metadata": {},
   "outputs": [],
   "source": [
    "# let start by initializing the NN Random weights "
   ]
  },
  {
   "cell_type": "code",
   "execution_count": 24,
   "metadata": {},
   "outputs": [],
   "source": [
    "# classifier is the futur nn model we goona build\n",
    "# as we define it as a sequence of layers \n",
    "classifier_nn = Sequential()"
   ]
  },
  {
   "cell_type": "code",
   "execution_count": 27,
   "metadata": {},
   "outputs": [
    {
     "name": "stdout",
     "output_type": "stream",
     "text": [
      "Epoch 1/100\n",
      "8000/8000 [==============================] - 2s 227us/step - loss: 0.5297 - accuracy: 0.7958\n",
      "Epoch 2/100\n",
      "8000/8000 [==============================] - 1s 142us/step - loss: 0.4640 - accuracy: 0.7960\n",
      "Epoch 3/100\n",
      "8000/8000 [==============================] - 1s 119us/step - loss: 0.4434 - accuracy: 0.7960\n",
      "Epoch 4/100\n",
      "8000/8000 [==============================] - 1s 115us/step - loss: 0.4355 - accuracy: 0.7960\n",
      "Epoch 5/100\n",
      "8000/8000 [==============================] - 1s 116us/step - loss: 0.4298 - accuracy: 0.7960\n",
      "Epoch 6/100\n",
      "8000/8000 [==============================] - 1s 127us/step - loss: 0.4210 - accuracy: 0.7952\n",
      "Epoch 7/100\n",
      "8000/8000 [==============================] - 1s 129us/step - loss: 0.4088 - accuracy: 0.8112\n",
      "Epoch 8/100\n",
      "8000/8000 [==============================] - 1s 119us/step - loss: 0.4009 - accuracy: 0.8111\n",
      "Epoch 9/100\n",
      "8000/8000 [==============================] - 1s 118us/step - loss: 0.3927 - accuracy: 0.8209\n",
      "Epoch 10/100\n",
      "8000/8000 [==============================] - 1s 131us/step - loss: 0.3862 - accuracy: 0.8314\n",
      "Epoch 11/100\n",
      "8000/8000 [==============================] - 1s 120us/step - loss: 0.3802 - accuracy: 0.8404\n",
      "Epoch 12/100\n",
      "8000/8000 [==============================] - 1s 122us/step - loss: 0.3708 - accuracy: 0.8471\n",
      "Epoch 13/100\n",
      "8000/8000 [==============================] - 1s 121us/step - loss: 0.3658 - accuracy: 0.8500\n",
      "Epoch 14/100\n",
      "8000/8000 [==============================] - 1s 131us/step - loss: 0.3626 - accuracy: 0.8525\n",
      "Epoch 15/100\n",
      "8000/8000 [==============================] - 1s 132us/step - loss: 0.3592 - accuracy: 0.8537\n",
      "Epoch 16/100\n",
      "8000/8000 [==============================] - 1s 123us/step - loss: 0.3571 - accuracy: 0.8544\n",
      "Epoch 17/100\n",
      "8000/8000 [==============================] - 1s 122us/step - loss: 0.3555 - accuracy: 0.8559\n",
      "Epoch 18/100\n",
      "8000/8000 [==============================] - 1s 122us/step - loss: 0.3540 - accuracy: 0.8560\n",
      "Epoch 19/100\n",
      "8000/8000 [==============================] - 1s 122us/step - loss: 0.3510 - accuracy: 0.8559\n",
      "Epoch 20/100\n",
      "8000/8000 [==============================] - 1s 127us/step - loss: 0.3516 - accuracy: 0.8531\n",
      "Epoch 21/100\n",
      "8000/8000 [==============================] - 1s 127us/step - loss: 0.3496 - accuracy: 0.8539\n",
      "Epoch 22/100\n",
      "8000/8000 [==============================] - 1s 122us/step - loss: 0.3490 - accuracy: 0.8559\n",
      "Epoch 23/100\n",
      "8000/8000 [==============================] - 1s 123us/step - loss: 0.3501 - accuracy: 0.8593\n",
      "Epoch 24/100\n",
      "8000/8000 [==============================] - 1s 129us/step - loss: 0.3499 - accuracy: 0.8583\n",
      "Epoch 25/100\n",
      "8000/8000 [==============================] - 1s 128us/step - loss: 0.3494 - accuracy: 0.8551\n",
      "Epoch 26/100\n",
      "8000/8000 [==============================] - 1s 124us/step - loss: 0.3492 - accuracy: 0.8564\n",
      "Epoch 27/100\n",
      "8000/8000 [==============================] - 1s 186us/step - loss: 0.3485 - accuracy: 0.8575\n",
      "Epoch 28/100\n",
      "8000/8000 [==============================] - 2s 208us/step - loss: 0.3478 - accuracy: 0.8575\n",
      "Epoch 29/100\n",
      "8000/8000 [==============================] - 1s 183us/step - loss: 0.3472 - accuracy: 0.8574\n",
      "Epoch 30/100\n",
      "8000/8000 [==============================] - 2s 198us/step - loss: 0.3473 - accuracy: 0.8570\n",
      "Epoch 31/100\n",
      "8000/8000 [==============================] - 2s 191us/step - loss: 0.3480 - accuracy: 0.8580\n",
      "Epoch 32/100\n",
      "8000/8000 [==============================] - 1s 168us/step - loss: 0.3468 - accuracy: 0.8571\n",
      "Epoch 33/100\n",
      "8000/8000 [==============================] - 1s 172us/step - loss: 0.3473 - accuracy: 0.8587\n",
      "Epoch 34/100\n",
      "8000/8000 [==============================] - 1s 178us/step - loss: 0.3487 - accuracy: 0.8570\n",
      "Epoch 35/100\n",
      "8000/8000 [==============================] - 2s 193us/step - loss: 0.3472 - accuracy: 0.8576\n",
      "Epoch 36/100\n",
      "8000/8000 [==============================] - 2s 197us/step - loss: 0.3458 - accuracy: 0.8590\n",
      "Epoch 37/100\n",
      "8000/8000 [==============================] - 1s 171us/step - loss: 0.3466 - accuracy: 0.8599\n",
      "Epoch 38/100\n",
      "8000/8000 [==============================] - 1s 187us/step - loss: 0.3457 - accuracy: 0.8593\n",
      "Epoch 39/100\n",
      "8000/8000 [==============================] - 1s 175us/step - loss: 0.3473 - accuracy: 0.8580\n",
      "Epoch 40/100\n",
      "8000/8000 [==============================] - 1s 172us/step - loss: 0.3463 - accuracy: 0.8579\n",
      "Epoch 41/100\n",
      "8000/8000 [==============================] - 1s 170us/step - loss: 0.3479 - accuracy: 0.8579\n",
      "Epoch 42/100\n",
      "8000/8000 [==============================] - 1s 171us/step - loss: 0.3462 - accuracy: 0.8577\n",
      "Epoch 43/100\n",
      "8000/8000 [==============================] - 1s 170us/step - loss: 0.3462 - accuracy: 0.8566\n",
      "Epoch 44/100\n",
      "8000/8000 [==============================] - 1s 172us/step - loss: 0.3462 - accuracy: 0.8586\n",
      "Epoch 45/100\n",
      "8000/8000 [==============================] - 1s 170us/step - loss: 0.3475 - accuracy: 0.8564\n",
      "Epoch 46/100\n",
      "8000/8000 [==============================] - 2s 222us/step - loss: 0.3463 - accuracy: 0.8571\n",
      "Epoch 47/100\n",
      "8000/8000 [==============================] - 2s 208us/step - loss: 0.3458 - accuracy: 0.8585\n",
      "Epoch 48/100\n",
      "8000/8000 [==============================] - 1s 173us/step - loss: 0.3454 - accuracy: 0.8571\n",
      "Epoch 49/100\n",
      "8000/8000 [==============================] - 1s 184us/step - loss: 0.3469 - accuracy: 0.8581\n",
      "Epoch 50/100\n",
      "8000/8000 [==============================] - 1s 170us/step - loss: 0.3459 - accuracy: 0.8568\n",
      "Epoch 51/100\n",
      "8000/8000 [==============================] - 1s 167us/step - loss: 0.3445 - accuracy: 0.8596\n",
      "Epoch 52/100\n",
      "8000/8000 [==============================] - 1s 171us/step - loss: 0.3463 - accuracy: 0.8574\n",
      "Epoch 53/100\n",
      "8000/8000 [==============================] - 1s 174us/step - loss: 0.3456 - accuracy: 0.8551\n",
      "Epoch 54/100\n",
      "8000/8000 [==============================] - 1s 167us/step - loss: 0.3459 - accuracy: 0.8602\n",
      "Epoch 55/100\n",
      "8000/8000 [==============================] - 1s 170us/step - loss: 0.3455 - accuracy: 0.8584\n",
      "Epoch 56/100\n",
      "8000/8000 [==============================] - 1s 181us/step - loss: 0.3455 - accuracy: 0.8569\n",
      "Epoch 57/100\n",
      "8000/8000 [==============================] - 1s 184us/step - loss: 0.3449 - accuracy: 0.8564\n",
      "Epoch 58/100\n",
      "8000/8000 [==============================] - 2s 195us/step - loss: 0.3459 - accuracy: 0.8594\n",
      "Epoch 59/100\n",
      "8000/8000 [==============================] - 2s 217us/step - loss: 0.3448 - accuracy: 0.8571\n",
      "Epoch 60/100\n",
      "8000/8000 [==============================] - 2s 202us/step - loss: 0.3452 - accuracy: 0.8575\n",
      "Epoch 61/100\n",
      "8000/8000 [==============================] - 2s 206us/step - loss: 0.3459 - accuracy: 0.8562\n",
      "Epoch 62/100\n",
      "8000/8000 [==============================] - 2s 221us/step - loss: 0.3445 - accuracy: 0.8580\n",
      "Epoch 63/100\n",
      "8000/8000 [==============================] - 1s 175us/step - loss: 0.3458 - accuracy: 0.8570\n",
      "Epoch 64/100\n",
      "8000/8000 [==============================] - 2s 190us/step - loss: 0.3459 - accuracy: 0.8589\n",
      "Epoch 65/100\n",
      "8000/8000 [==============================] - 1s 167us/step - loss: 0.3449 - accuracy: 0.8591\n",
      "Epoch 66/100\n",
      "8000/8000 [==============================] - 1s 183us/step - loss: 0.3444 - accuracy: 0.8580\n",
      "Epoch 67/100\n",
      "8000/8000 [==============================] - 2s 193us/step - loss: 0.3459 - accuracy: 0.8566\n",
      "Epoch 68/100\n",
      "8000/8000 [==============================] - 2s 199us/step - loss: 0.3443 - accuracy: 0.8587\n",
      "Epoch 69/100\n",
      "8000/8000 [==============================] - 1s 187us/step - loss: 0.3457 - accuracy: 0.8583\n",
      "Epoch 70/100\n",
      "8000/8000 [==============================] - 1s 186us/step - loss: 0.3445 - accuracy: 0.8597\n",
      "Epoch 71/100\n",
      "8000/8000 [==============================] - 1s 177us/step - loss: 0.3448 - accuracy: 0.8587\n",
      "Epoch 72/100\n",
      "8000/8000 [==============================] - 1s 186us/step - loss: 0.3444 - accuracy: 0.8601\n",
      "Epoch 73/100\n",
      "8000/8000 [==============================] - 1s 185us/step - loss: 0.3447 - accuracy: 0.8595\n",
      "Epoch 74/100\n",
      "8000/8000 [==============================] - 1s 173us/step - loss: 0.3451 - accuracy: 0.8560\n",
      "Epoch 75/100\n",
      "8000/8000 [==============================] - 1s 185us/step - loss: 0.3453 - accuracy: 0.8560\n",
      "Epoch 76/100\n",
      "8000/8000 [==============================] - 1s 179us/step - loss: 0.3458 - accuracy: 0.8562\n",
      "Epoch 77/100\n",
      "8000/8000 [==============================] - 1s 181us/step - loss: 0.3442 - accuracy: 0.8579\n",
      "Epoch 78/100\n",
      "8000/8000 [==============================] - 1s 170us/step - loss: 0.3451 - accuracy: 0.8570\n",
      "Epoch 79/100\n",
      "8000/8000 [==============================] - 1s 167us/step - loss: 0.3447 - accuracy: 0.8584\n",
      "Epoch 80/100\n",
      "8000/8000 [==============================] - 1s 168us/step - loss: 0.3436 - accuracy: 0.8585\n",
      "Epoch 81/100\n",
      "8000/8000 [==============================] - 1s 170us/step - loss: 0.3448 - accuracy: 0.8579\n",
      "Epoch 82/100\n",
      "8000/8000 [==============================] - 1s 165us/step - loss: 0.3455 - accuracy: 0.8584\n",
      "Epoch 83/100\n",
      "8000/8000 [==============================] - 1s 163us/step - loss: 0.3451 - accuracy: 0.8554\n",
      "Epoch 84/100\n",
      "8000/8000 [==============================] - 1s 163us/step - loss: 0.3430 - accuracy: 0.8605\n",
      "Epoch 85/100\n",
      "8000/8000 [==============================] - 1s 175us/step - loss: 0.3453 - accuracy: 0.8577\n",
      "Epoch 86/100\n",
      "8000/8000 [==============================] - 1s 169us/step - loss: 0.3437 - accuracy: 0.8561\n",
      "Epoch 87/100\n",
      "8000/8000 [==============================] - 1s 184us/step - loss: 0.3451 - accuracy: 0.8599\n",
      "Epoch 88/100\n",
      "8000/8000 [==============================] - 1s 177us/step - loss: 0.3447 - accuracy: 0.8596\n",
      "Epoch 89/100\n",
      "8000/8000 [==============================] - 1s 134us/step - loss: 0.3440 - accuracy: 0.8586\n",
      "Epoch 90/100\n",
      "8000/8000 [==============================] - 1s 132us/step - loss: 0.3448 - accuracy: 0.8559\n",
      "Epoch 91/100\n",
      "8000/8000 [==============================] - 1s 142us/step - loss: 0.3435 - accuracy: 0.8594\n",
      "Epoch 92/100\n",
      "8000/8000 [==============================] - 1s 125us/step - loss: 0.3447 - accuracy: 0.8591\n",
      "Epoch 93/100\n",
      "8000/8000 [==============================] - 1s 125us/step - loss: 0.3436 - accuracy: 0.8610\n",
      "Epoch 94/100\n",
      "8000/8000 [==============================] - 1s 123us/step - loss: 0.3443 - accuracy: 0.8568\n",
      "Epoch 95/100\n",
      "8000/8000 [==============================] - 1s 126us/step - loss: 0.3451 - accuracy: 0.8576\n",
      "Epoch 96/100\n",
      "8000/8000 [==============================] - 1s 128us/step - loss: 0.3444 - accuracy: 0.8591\n",
      "Epoch 97/100\n",
      "8000/8000 [==============================] - 1s 128us/step - loss: 0.3471 - accuracy: 0.8555\n",
      "Epoch 98/100\n",
      "8000/8000 [==============================] - 1s 126us/step - loss: 0.3441 - accuracy: 0.8597\n",
      "Epoch 99/100\n",
      "8000/8000 [==============================] - 1s 125us/step - loss: 0.3442 - accuracy: 0.8587\n",
      "Epoch 100/100\n",
      "8000/8000 [==============================] - 1s 128us/step - loss: 0.3444 - accuracy: 0.8565\n"
     ]
    },
    {
     "data": {
      "text/plain": [
       "<keras.callbacks.callbacks.History at 0x7f68ba931b10>"
      ]
     },
     "execution_count": 27,
     "metadata": {},
     "output_type": "execute_result"
    }
   ],
   "source": [
    "import tensorflow as tf      \n",
    "import logging\n",
    "logging.getLogger('tensorflow').setLevel(logging.ERROR)\n",
    "'''\n",
    "to avoid the error \n",
    "\n",
    "'''\n",
    "\n",
    "# we are able to add the different layer in this NN\n",
    "# we star with the input layer and the hidden layer \n",
    "# the first layer is the input layer \n",
    "\n",
    "'''\n",
    "output the number of noead in the hidden layer\n",
    "unit the initialise the weights small number close to zero \n",
    "activation the activation function in the hiden layyer\n",
    "'''\n",
    "\n",
    "classifier_nn.add(Dense(6, kernel_initializer=\"uniform\", activation = 'relu',input_dim=9))\n",
    "\n",
    "\n",
    "# we create a second hidden layer \n",
    "# the number of the noeaud of the second layer is applied \n",
    "# as the same of the first the mean (nb ind vari + dep vari / 2 )\n",
    "classifier_nn.add(Dense(6, kernel_initializer=\"uniform\", activation = 'relu'))\n",
    "\n",
    "# adding the output layer  the final \n",
    "'''\n",
    "we need only one output dim to one cause we have only one dep var\n",
    "yes or no if we have more than two categorie we have to change \n",
    "the sigmoid funct to soft max  which is applied to dep vari\n",
    "'''\n",
    "classifier_nn.add(Dense(1, kernel_initializer=\"uniform\", activation = 'sigmoid'))\n",
    "\n",
    "# the next step is to compile our neural networks\n",
    "'''\n",
    "    optimizer the algorith to use to find the optimal weights\n",
    "like gradient descent scho.... (caleed adam )\n",
    "    loss  = the loss function that we need to optimise \n",
    "like the error function\n",
    "    metrixs is a criter that you choose to evalute your model \n",
    "and typicly we use the accuracy  it wait a list of matrix\n",
    "in our case we have only accuracy \n",
    "\n",
    "'''\n",
    "classifier_nn.compile(optimizer=\"adam\",loss=\"binary_crossentropy\",metrics= [\"accuracy\"])\n",
    "\n",
    "\n",
    "\n",
    "# the next step is we will choose the number of epoc that is \n",
    "# the number of times we training NN \n",
    "'''\n",
    "we will see how our NN in training and how in is improving accuracy at each round of epoc \n",
    "\n",
    "'''\n",
    "# fitting the NN to  the training se \n",
    "''' make the connection between NN and training set '''\n",
    "classifier_nn.fit(features_train,target_train,batch_size= 10,epochs=100)\n",
    "\n"
   ]
  },
  {
   "cell_type": "markdown",
   "metadata": {},
   "source": [
    "# finaly our model is ready "
   ]
  },
  {
   "cell_type": "markdown",
   "metadata": {},
   "source": [
    "# making the predictions and evaluation of the model "
   ]
  },
  {
   "cell_type": "code",
   "execution_count": null,
   "metadata": {},
   "outputs": [],
   "source": [
    "# predictions the test set result "
   ]
  },
  {
   "cell_type": "code",
   "execution_count": 32,
   "metadata": {},
   "outputs": [
    {
     "data": {
      "text/plain": [
       "array([[False],\n",
       "       [False],\n",
       "       [False],\n",
       "       ...,\n",
       "       [False],\n",
       "       [False],\n",
       "       [False]])"
      ]
     },
     "execution_count": 32,
     "metadata": {},
     "output_type": "execute_result"
    }
   ],
   "source": [
    "target_predict = classifier_nn.predict(features_test)\n",
    "target_predict = (target_predict > 0.5)\n",
    "target_predict"
   ]
  },
  {
   "cell_type": "code",
   "execution_count": 34,
   "metadata": {},
   "outputs": [
    {
     "data": {
      "text/plain": [
       "array([[1487,  108],\n",
       "       [ 180,  225]])"
      ]
     },
     "execution_count": 34,
     "metadata": {},
     "output_type": "execute_result"
    }
   ],
   "source": [
    "# making the confusion Matrix \n",
    "from sklearn.metrics import confusion_matrix\n",
    "cm = confusion_matrix(target_test,target_predict)\n",
    "cm"
   ]
  },
  {
   "cell_type": "code",
   "execution_count": 36,
   "metadata": {},
   "outputs": [
    {
     "data": {
      "text/plain": [
       "0.144"
      ]
     },
     "execution_count": 36,
     "metadata": {},
     "output_type": "execute_result"
    }
   ],
   "source": [
    "# the accuracy \n",
    "(1489+225)/2000\n",
    "# the recall \n",
    "(180+108)/2000"
   ]
  },
  {
   "cell_type": "code",
   "execution_count": null,
   "metadata": {},
   "outputs": [],
   "source": [
    "\n",
    "\n",
    "\n",
    "\n",
    "\n",
    "\n",
    "\n",
    "\n",
    "\n",
    "\n",
    "\n",
    "\n",
    "\n",
    "\n",
    "\n",
    "\n",
    "\n",
    "\n",
    "\n",
    "\n",
    "\n",
    "\n",
    "\n",
    "\n",
    "\n",
    "\n",
    "\n",
    "\n",
    "\n",
    "\n",
    "\n",
    "\n",
    "\n",
    "\n",
    "\n",
    "\n",
    "\n",
    "\n",
    "\n",
    "\n",
    "\n",
    "\n",
    "\n",
    "\n",
    "\n"
   ]
  }
 ],
 "metadata": {
  "kernelspec": {
   "display_name": "Python 3",
   "language": "python",
   "name": "python3"
  },
  "language_info": {
   "codemirror_mode": {
    "name": "ipython",
    "version": 3
   },
   "file_extension": ".py",
   "mimetype": "text/x-python",
   "name": "python",
   "nbconvert_exporter": "python",
   "pygments_lexer": "ipython3",
   "version": "3.7.6"
  }
 },
 "nbformat": 4,
 "nbformat_minor": 2
}
