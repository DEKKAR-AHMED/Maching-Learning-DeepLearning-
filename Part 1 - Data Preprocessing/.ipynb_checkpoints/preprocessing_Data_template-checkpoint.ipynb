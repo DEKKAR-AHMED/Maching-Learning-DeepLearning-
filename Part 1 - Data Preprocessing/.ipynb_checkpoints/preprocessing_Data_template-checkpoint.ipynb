{
 "cells": [
  {
   "cell_type": "code",
   "execution_count": 14,
   "metadata": {},
   "outputs": [
    {
     "data": {
      "text/plain": [
       "'sc_features = StandardScaler()\\nfeatures_train = sc_features.fit_transform(features_train)\\nfeatyres_test =sc_features.transform(featyres_test)'"
      ]
     },
     "execution_count": 14,
     "metadata": {},
     "output_type": "execute_result"
    }
   ],
   "source": [
    "import numpy as np \n",
    "import matplotlib.pyplot as plt\n",
    "import pandas as pd \n",
    "#loading the data \n",
    "data = pd.read_csv(\"Data.csv\")\n",
    "#split the data en x and y \n",
    "features = data.iloc[:,:-1].values\n",
    "target = data.iloc[:,3].values\n",
    "#split the data on xtrain,ytrain,...\n",
    "from sklearn.model_selection import train_test_split \n",
    "features_train,featyres_test,target_train,target_test = train_test_split(features,target,test_size= 0.2,random_state= 0)\n",
    "#scalling the data \n",
    "from sklearn.preprocessing import StandardScaler\n",
    "'''sc_features = StandardScaler()\n",
    "features_train = sc_features.fit_transform(features_train)\n",
    "featyres_test =sc_features.transform(featyres_test)'''"
   ]
  },
  {
   "cell_type": "code",
   "execution_count": 3,
   "metadata": {},
   "outputs": [],
   "source": [
    "\n"
   ]
  }
 ],
 "metadata": {
  "kernelspec": {
   "display_name": "Python 3",
   "language": "python",
   "name": "python3"
  },
  "language_info": {
   "codemirror_mode": {
    "name": "ipython",
    "version": 3
   },
   "file_extension": ".py",
   "mimetype": "text/x-python",
   "name": "python",
   "nbconvert_exporter": "python",
   "pygments_lexer": "ipython3",
   "version": "3.7.4"
  }
 },
 "nbformat": 4,
 "nbformat_minor": 2
}
